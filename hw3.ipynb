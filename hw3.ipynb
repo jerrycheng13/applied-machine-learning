{
 "cells": [
  {
   "cell_type": "code",
   "execution_count": 1,
   "metadata": {},
   "outputs": [
    {
     "name": "stderr",
     "output_type": "stream",
     "text": [
      "/Users/hhanchan/anaconda3/lib/python3.6/site-packages/sklearn/cross_validation.py:41: DeprecationWarning: This module was deprecated in version 0.18 in favor of the model_selection module into which all the refactored classes and functions are moved. Also note that the interface of the new CV iterators are different from that of this module. This module will be removed in 0.20.\n",
      "  \"This module will be removed in 0.20.\", DeprecationWarning)\n"
     ]
    }
   ],
   "source": [
    "import numpy as np\n",
    "import pandas as pd\n",
    "import matplotlib.pyplot as plt\n",
    "import sklearn\n",
    "from sklearn.pipeline import make_pipeline\n",
    "from sklearn.model_selection import StratifiedKFold\n",
    "from sklearn.preprocessing import Imputer, PolynomialFeatures, PowerTransformer\n",
    "from sklearn.preprocessing import LabelEncoder, OneHotEncoder, StandardScaler, MinMaxScaler\n",
    "from sklearn.cross_validation import train_test_split\n",
    "from sklearn.linear_model import Ridge, RidgeCV, LassoCV\n",
    "from sklearn.model_selection import GridSearchCV\n",
    "from sklearn.preprocessing import MinMaxScaler\n",
    "from sklearn.tree import DecisionTreeClassifier, export_graphviz, DecisionTreeRegressor\n",
    "from sklearn.ensemble import RandomForestRegressor, GradientBoostingRegressor\n",
    "from sklearn.svm import SVC"
   ]
  },
  {
   "cell_type": "code",
   "execution_count": 2,
   "metadata": {},
   "outputs": [],
   "source": [
    "year2015 = pd.read_excel('2015 FE Guide.xlsx')\n",
    "year2016 = pd.read_excel('2016 FE Guide.xlsx')\n",
    "year2017 = pd.read_excel('2017 FE Guide.xlsx')\n",
    "year2018 = pd.read_excel('2018 FE Guide.xlsx')"
   ]
  },
  {
   "cell_type": "markdown",
   "metadata": {},
   "source": [
    "# Task 1: Linear Models"
   ]
  },
  {
   "cell_type": "markdown",
   "metadata": {},
   "source": [
    "## Preprocessing"
   ]
  },
  {
   "cell_type": "code",
   "execution_count": 3,
   "metadata": {},
   "outputs": [
    {
     "data": {
      "text/plain": [
       "(4928, 162)"
      ]
     },
     "execution_count": 3,
     "metadata": {},
     "output_type": "execute_result"
    }
   ],
   "source": [
    "data = pd.concat([year2015, year2016, year2017, year2018])\n",
    "data.shape"
   ]
  },
  {
   "cell_type": "code",
   "execution_count": 4,
   "metadata": {},
   "outputs": [
    {
     "data": {
      "text/plain": [
       "(4928, 63)"
      ]
     },
     "execution_count": 4,
     "metadata": {},
     "output_type": "execute_result"
    }
   ],
   "source": [
    "data = data.dropna(axis=1,how='all')\n",
    "data = data.dropna(thresh=round(0.75*data.shape[0]), axis=1)\n",
    "data.shape"
   ]
  },
  {
   "cell_type": "code",
   "execution_count": 5,
   "metadata": {},
   "outputs": [
    {
     "data": {
      "text/plain": [
       "(4928, 2)"
      ]
     },
     "execution_count": 5,
     "metadata": {},
     "output_type": "execute_result"
    }
   ],
   "source": [
    "target = data.loc[:,['Model Year','Comb Unrd Adj FE - Conventional Fuel']]\n",
    "target.shape"
   ]
  },
  {
   "cell_type": "code",
   "execution_count": 6,
   "metadata": {},
   "outputs": [
    {
     "name": "stdout",
     "output_type": "stream",
     "text": [
      "shape of the train target:(3701, 1)\n"
     ]
    }
   ],
   "source": [
    "target_train = target[target['Model Year']!=2018]\n",
    "target_train = target_train.drop(columns = ['Model Year'])\n",
    "print(\"shape of the train target:{}\".format(target_train.shape))"
   ]
  },
  {
   "cell_type": "code",
   "execution_count": 7,
   "metadata": {},
   "outputs": [
    {
     "name": "stdout",
     "output_type": "stream",
     "text": [
      "shape of the test target:(1227, 1)\n"
     ]
    }
   ],
   "source": [
    "target_test = target[target['Model Year']==2018]\n",
    "target_test = target_test.drop(columns = ['Model Year'])\n",
    "print(\"shape of the test target:{}\".format(target_test.shape))"
   ]
  },
  {
   "cell_type": "code",
   "execution_count": 8,
   "metadata": {},
   "outputs": [
    {
     "data": {
      "text/plain": [
       "(4928, 42)"
      ]
     },
     "execution_count": 8,
     "metadata": {},
     "output_type": "execute_result"
    }
   ],
   "source": [
    "features = data.columns.get_values()\n",
    "drop_features = [\"EPA\", \"Rating\", \"FE\", \"Cost\", \"Range\", \"CO2\", \"Guzzler\", \"MPG\", \"Smog\", 'Unnamed', 'costs']\n",
    "index = []\n",
    "for i, feature in enumerate(features):\n",
    "    flag = True\n",
    "    if all(name not in feature for name in drop_features):\n",
    "        index.append(i)\n",
    "\n",
    "data = data.iloc[:, index]\n",
    "data.shape"
   ]
  },
  {
   "cell_type": "code",
   "execution_count": 9,
   "metadata": {},
   "outputs": [
    {
     "data": {
      "text/plain": [
       "['Model Year',\n",
       " 'Mfr Name',\n",
       " 'Division',\n",
       " 'Carline',\n",
       " 'Verify Mfr Cd',\n",
       " 'Index (Model Type Index)',\n",
       " 'Eng Displ',\n",
       " '# Cyl',\n",
       " 'Transmission',\n",
       " 'Air Aspiration Method Desc',\n",
       " 'Trans',\n",
       " 'Trans Desc',\n",
       " '# Gears',\n",
       " 'Lockup Torque Converter',\n",
       " 'Trans Creeper Gear',\n",
       " 'Drive Sys',\n",
       " 'Drive Desc',\n",
       " 'Max Ethanol % - Gasoline',\n",
       " 'Fuel Usage  - Conventional Fuel',\n",
       " 'Fuel Usage Desc - Conventional Fuel',\n",
       " 'Fuel Unit - Conventional Fuel',\n",
       " 'Fuel Unit Desc - Conventional Fuel',\n",
       " 'Intake Valves Per Cyl',\n",
       " 'Exhaust Valves Per Cyl',\n",
       " 'Carline Class',\n",
       " 'Carline Class Desc',\n",
       " 'Calc Approach Desc',\n",
       " 'Release Date',\n",
       " 'Unique Label?',\n",
       " 'Label Recalc?',\n",
       " 'Suppressed?',\n",
       " 'Police/Emerg?',\n",
       " 'Cyl Deact?',\n",
       " 'Var Valve Timing?',\n",
       " 'Var Valve Timing Desc',\n",
       " 'Var Valve Lift?',\n",
       " 'Fuel Metering Sys Cd',\n",
       " 'Fuel Metering Sys Desc',\n",
       " 'Camless Valvetrain (Y or N)',\n",
       " 'Oil Viscosity',\n",
       " 'Stop/Start System (Engine Management System) Code',\n",
       " 'Stop/Start System (Engine Management System)  Description']"
      ]
     },
     "execution_count": 9,
     "metadata": {},
     "output_type": "execute_result"
    }
   ],
   "source": [
    "list(data)"
   ]
  },
  {
   "cell_type": "code",
   "execution_count": 10,
   "metadata": {},
   "outputs": [],
   "source": [
    "# numerical features\n",
    "float_data = list(data.select_dtypes(include=['float64']).columns)\n",
    "# categorical features\n",
    "object_data = list(data.select_dtypes(include=['object']).columns)"
   ]
  },
  {
   "cell_type": "code",
   "execution_count": 11,
   "metadata": {},
   "outputs": [
    {
     "data": {
      "text/plain": [
       "['Eng Displ', 'Max Ethanol % - Gasoline']"
      ]
     },
     "execution_count": 11,
     "metadata": {},
     "output_type": "execute_result"
    }
   ],
   "source": [
    "float_data"
   ]
  },
  {
   "cell_type": "code",
   "execution_count": 12,
   "metadata": {},
   "outputs": [
    {
     "data": {
      "text/plain": [
       "['Mfr Name',\n",
       " 'Division',\n",
       " 'Carline',\n",
       " 'Verify Mfr Cd',\n",
       " 'Transmission',\n",
       " 'Air Aspiration Method Desc',\n",
       " 'Trans',\n",
       " 'Trans Desc',\n",
       " 'Lockup Torque Converter',\n",
       " 'Trans Creeper Gear',\n",
       " 'Drive Sys',\n",
       " 'Drive Desc',\n",
       " 'Fuel Usage  - Conventional Fuel',\n",
       " 'Fuel Usage Desc - Conventional Fuel',\n",
       " 'Fuel Unit - Conventional Fuel',\n",
       " 'Fuel Unit Desc - Conventional Fuel',\n",
       " 'Carline Class Desc',\n",
       " 'Calc Approach Desc',\n",
       " 'Unique Label?',\n",
       " 'Label Recalc?',\n",
       " 'Suppressed?',\n",
       " 'Police/Emerg?',\n",
       " 'Cyl Deact?',\n",
       " 'Var Valve Timing?',\n",
       " 'Var Valve Timing Desc',\n",
       " 'Var Valve Lift?',\n",
       " 'Fuel Metering Sys Cd',\n",
       " 'Fuel Metering Sys Desc',\n",
       " 'Camless Valvetrain (Y or N)',\n",
       " 'Oil Viscosity',\n",
       " 'Stop/Start System (Engine Management System) Code',\n",
       " 'Stop/Start System (Engine Management System)  Description']"
      ]
     },
     "execution_count": 12,
     "metadata": {},
     "output_type": "execute_result"
    }
   ],
   "source": [
    "object_data"
   ]
  },
  {
   "cell_type": "markdown",
   "metadata": {},
   "source": [
    "### Fill Missing Values"
   ]
  },
  {
   "cell_type": "code",
   "execution_count": 13,
   "metadata": {},
   "outputs": [
    {
     "data": {
      "text/plain": [
       "Model Year                                                     0\n",
       "Mfr Name                                                       0\n",
       "Division                                                       0\n",
       "Carline                                                        0\n",
       "Verify Mfr Cd                                                  0\n",
       "Index (Model Type Index)                                       0\n",
       "Eng Displ                                                      0\n",
       "# Cyl                                                          0\n",
       "Transmission                                                   0\n",
       "Air Aspiration Method Desc                                     0\n",
       "Trans                                                          0\n",
       "Trans Desc                                                     0\n",
       "# Gears                                                        0\n",
       "Lockup Torque Converter                                        0\n",
       "Trans Creeper Gear                                             0\n",
       "Drive Sys                                                      0\n",
       "Drive Desc                                                     0\n",
       "Max Ethanol % - Gasoline                                     107\n",
       "Fuel Usage  - Conventional Fuel                                0\n",
       "Fuel Usage Desc - Conventional Fuel                            0\n",
       "Fuel Unit - Conventional Fuel                                  0\n",
       "Fuel Unit Desc - Conventional Fuel                             0\n",
       "Intake Valves Per Cyl                                          0\n",
       "Exhaust Valves Per Cyl                                         0\n",
       "Carline Class                                                  0\n",
       "Carline Class Desc                                             0\n",
       "Calc Approach Desc                                             0\n",
       "Release Date                                                   0\n",
       "Unique Label?                                                420\n",
       "Label Recalc?                                                248\n",
       "Suppressed?                                                    0\n",
       "Police/Emerg?                                                  0\n",
       "Cyl Deact?                                                     0\n",
       "Var Valve Timing?                                              0\n",
       "Var Valve Timing Desc                                        151\n",
       "Var Valve Lift?                                                0\n",
       "Fuel Metering Sys Cd                                           0\n",
       "Fuel Metering Sys Desc                                         0\n",
       "Camless Valvetrain (Y or N)                                    0\n",
       "Oil Viscosity                                                  0\n",
       "Stop/Start System (Engine Management System) Code              0\n",
       "Stop/Start System (Engine Management System)  Description      0\n",
       "dtype: int64"
      ]
     },
     "execution_count": 13,
     "metadata": {},
     "output_type": "execute_result"
    }
   ],
   "source": [
    "data.isnull().sum()"
   ]
  },
  {
   "cell_type": "markdown",
   "metadata": {},
   "source": [
    "We could see that column 'Max Ethanol % - Gasoline','Unique Label?','Label Recalc?','Var Valve Timing Desc' have missing values, then we should only fill NAs in these column"
   ]
  },
  {
   "cell_type": "code",
   "execution_count": 49,
   "metadata": {},
   "outputs": [],
   "source": [
    "#data[['Max Ethanol % - Gasoline','Unique Label?','Label Recalc?','Var Valve Timing Desc']]"
   ]
  },
  {
   "cell_type": "markdown",
   "metadata": {},
   "source": [
    "'Max Ethanol % - Gasoline' contains numerical values; 'Unique Label?','Label Recalc?','Var Valve Timing Desc' contain string values"
   ]
  },
  {
   "cell_type": "code",
   "execution_count": 15,
   "metadata": {},
   "outputs": [
    {
     "name": "stderr",
     "output_type": "stream",
     "text": [
      "/Users/hhanchan/anaconda3/lib/python3.6/site-packages/sklearn/utils/deprecation.py:58: DeprecationWarning: Class Imputer is deprecated; Imputer was deprecated in version 0.20 and will be removed in 0.22. Import impute.SimpleImputer from sklearn instead.\n",
      "  warnings.warn(msg, category=DeprecationWarning)\n"
     ]
    }
   ],
   "source": [
    "imputer = Imputer(missing_values = 'NaN', strategy = 'mean', axis = 0)\n",
    "data[['Max Ethanol % - Gasoline']] = imputer.fit_transform(data[['Max Ethanol % - Gasoline']])"
   ]
  },
  {
   "cell_type": "code",
   "execution_count": 16,
   "metadata": {},
   "outputs": [],
   "source": [
    "data['Unique Label?'] = data['Unique Label?'].fillna(data['Unique Label?'].value_counts().index[0])\n",
    "data[['Label Recalc?']] = data['Label Recalc?'].fillna(data['Label Recalc?'].value_counts().index[0])\n",
    "data[['Var Valve Timing Desc']] = data['Var Valve Timing Desc'].fillna(data['Var Valve Timing Desc'].value_counts().index[0])"
   ]
  },
  {
   "cell_type": "markdown",
   "metadata": {},
   "source": [
    "## Linear Model"
   ]
  },
  {
   "cell_type": "markdown",
   "metadata": {},
   "source": [
    "### Split Training and Validation"
   ]
  },
  {
   "cell_type": "code",
   "execution_count": 17,
   "metadata": {},
   "outputs": [],
   "source": [
    "dat = pd.get_dummies(data)"
   ]
  },
  {
   "cell_type": "code",
   "execution_count": 50,
   "metadata": {},
   "outputs": [],
   "source": [
    "#display(dat)"
   ]
  },
  {
   "cell_type": "code",
   "execution_count": 19,
   "metadata": {},
   "outputs": [
    {
     "data": {
      "text/plain": [
       "(3701, 1763)"
      ]
     },
     "execution_count": 19,
     "metadata": {},
     "output_type": "execute_result"
    }
   ],
   "source": [
    "dataval = dat[dat['Model Year']!=2018]\n",
    "dataval = dataval.drop(columns = ['Model Year','Release Date'])\n",
    "dataval.shape"
   ]
  },
  {
   "cell_type": "code",
   "execution_count": 20,
   "metadata": {},
   "outputs": [
    {
     "data": {
      "text/plain": [
       "(1227, 1763)"
      ]
     },
     "execution_count": 20,
     "metadata": {},
     "output_type": "execute_result"
    }
   ],
   "source": [
    "data_test = dat[data['Model Year']==2018]\n",
    "data_test = data_test.drop(columns = ['Model Year','Release Date'])\n",
    "data_test.shape"
   ]
  },
  {
   "cell_type": "code",
   "execution_count": 21,
   "metadata": {},
   "outputs": [],
   "source": [
    "X_train, X_valid, y_train, y_valid = train_test_split(dataval, target_train, test_size = 0.25, random_state = 5)"
   ]
  },
  {
   "cell_type": "code",
   "execution_count": 24,
   "metadata": {},
   "outputs": [
    {
     "name": "stdout",
     "output_type": "stream",
     "text": [
      "Training set score: 0.97\n",
      "Validation set score: 0.95\n",
      "Test set score: 0.94\n"
     ]
    }
   ],
   "source": [
    "ridge = Ridge().fit(X_train, y_train)\n",
    "print(\"Training set score: {:.2f}\".format(ridge.score(X_train, y_train)))\n",
    "print(\"Validation set score: {:.2f}\".format(ridge.score(X_valid, y_valid)))\n",
    "print(\"Test set score: {:.2f}\".format(ridge.score(data_test, target_test)))"
   ]
  },
  {
   "cell_type": "markdown",
   "metadata": {},
   "source": [
    "The score is quite good, we now try to find the best parameter using gridsearch"
   ]
  },
  {
   "cell_type": "code",
   "execution_count": 25,
   "metadata": {},
   "outputs": [
    {
     "name": "stderr",
     "output_type": "stream",
     "text": [
      "/Users/hhanchan/anaconda3/lib/python3.6/site-packages/sklearn/model_selection/_search.py:715: DeprecationWarning: The default of the `iid` parameter will change from True to False in version 0.22 and will be removed in 0.24. This will change numeric results when test-set sizes are unequal.\n",
      "  DeprecationWarning)\n"
     ]
    },
    {
     "name": "stdout",
     "output_type": "stream",
     "text": [
      "Best parameter:{'alpha': 0.30538555088334157}\n"
     ]
    }
   ],
   "source": [
    "param_grid = {'alpha' : np.logspace(-3,3,100)}\n",
    "g_Ridge = GridSearchCV(Ridge(), param_grid, cv=10, return_train_score=True)\n",
    "g_Ridge.fit(X_train, y_train)\n",
    "print(\"Best parameter:{}\".format(g_Ridge.best_params_))"
   ]
  },
  {
   "cell_type": "markdown",
   "metadata": {},
   "source": [
    "Using the best parameter to fit the linear model"
   ]
  },
  {
   "cell_type": "code",
   "execution_count": 292,
   "metadata": {},
   "outputs": [
    {
     "name": "stdout",
     "output_type": "stream",
     "text": [
      "Training set score: 0.98\n",
      "Validation set score: 0.95\n",
      "Test set score: 0.95\n"
     ]
    }
   ],
   "source": [
    "ridge = Ridge(alpha=0.30538555088334157).fit(X_train, y_train)\n",
    "print(\"Training set score: {:.2f}\".format(ridge.score(X_train, y_train)))\n",
    "print(\"Validation set score: {:.2f}\".format(ridge.score(X_valid, y_valid)))\n",
    "print(\"Test set score: {:.2f}\".format(ridge.score(data_test, target_test)))"
   ]
  },
  {
   "cell_type": "markdown",
   "metadata": {},
   "source": [
    "# Task 2: Feature Engineering"
   ]
  },
  {
   "cell_type": "markdown",
   "metadata": {},
   "source": [
    "## Polynomial Features"
   ]
  },
  {
   "cell_type": "code",
   "execution_count": 22,
   "metadata": {},
   "outputs": [
    {
     "data": {
      "text/plain": [
       "(2775, 1556730)"
      ]
     },
     "execution_count": 22,
     "metadata": {},
     "output_type": "execute_result"
    }
   ],
   "source": [
    "poly = PolynomialFeatures()\n",
    "X_train_poly = poly.fit_transform(X_train)\n",
    "X_train_poly.shape"
   ]
  },
  {
   "cell_type": "code",
   "execution_count": 24,
   "metadata": {},
   "outputs": [
    {
     "name": "stdout",
     "output_type": "stream",
     "text": [
      "Training set score: 0.99\n"
     ]
    }
   ],
   "source": [
    "ridge_poly = Ridge().fit(X_train_poly, y_train)\n",
    "print(\"Training set score: {:.2f}\".format(0ridge_poly.score(X_valid_poly, y_valid))))"
   ]
  },
  {
   "cell_type": "markdown",
   "metadata": {},
   "source": [
    "# Task 3: Any models"
   ]
  },
  {
   "cell_type": "markdown",
   "metadata": {},
   "source": [
    "* We try two regression models: DecisionTreeRegressor, RandomForestRegressor. The RandomForestRegressor model is the best."
   ]
  },
  {
   "cell_type": "markdown",
   "metadata": {},
   "source": [
    "## Decision Tree"
   ]
  },
  {
   "cell_type": "code",
   "execution_count": 29,
   "metadata": {},
   "outputs": [
    {
     "name": "stderr",
     "output_type": "stream",
     "text": [
      "/Users/hhanchan/anaconda3/lib/python3.6/site-packages/sklearn/model_selection/_search.py:715: DeprecationWarning: The default of the `iid` parameter will change from True to False in version 0.22 and will be removed in 0.24. This will change numeric results when test-set sizes are unequal.\n",
      "  DeprecationWarning)\n"
     ]
    },
    {
     "data": {
      "text/plain": [
       "GridSearchCV(cv=10, error_score='raise-deprecating',\n",
       "       estimator=DecisionTreeRegressor(criterion='mse', max_depth=None, max_features=None,\n",
       "           max_leaf_nodes=None, min_impurity_decrease=0.0,\n",
       "           min_impurity_split=None, min_samples_leaf=1,\n",
       "           min_samples_split=2, min_weight_fraction_leaf=0.0,\n",
       "           presort=False, random_state=0, splitter='best'),\n",
       "       fit_params=None, iid='warn', n_jobs=1,\n",
       "       param_grid={'max_features': range(1, 1763, 100)},\n",
       "       pre_dispatch='2*n_jobs', refit=True, return_train_score='warn',\n",
       "       scoring=None, verbose=0)"
      ]
     },
     "execution_count": 29,
     "metadata": {},
     "output_type": "execute_result"
    }
   ],
   "source": [
    "param_grid = {'max_depth': range(1, dataval.shape[1], 100)}\n",
    "gridDT = GridSearchCV(DecisionTreeRegressor(random_state = 0), param_grid = param_grid, cv = 10)\n",
    "gridDT.fit(X_train, y_train)"
   ]
  },
  {
   "cell_type": "code",
   "execution_count": 30,
   "metadata": {},
   "outputs": [
    {
     "name": "stdout",
     "output_type": "stream",
     "text": [
      "DecisionTreeRegressor(criterion='mse', max_depth=None, max_features=1601,\n",
      "           max_leaf_nodes=None, min_impurity_decrease=0.0,\n",
      "           min_impurity_split=None, min_samples_leaf=1,\n",
      "           min_samples_split=2, min_weight_fraction_leaf=0.0,\n",
      "           presort=False, random_state=0, splitter='best') 0.9488407923547288\n"
     ]
    }
   ],
   "source": [
    "print(gridDT.best_estimator_, gridDT.best_score_)"
   ]
  },
  {
   "cell_type": "code",
   "execution_count": 35,
   "metadata": {},
   "outputs": [
    {
     "name": "stdout",
     "output_type": "stream",
     "text": [
      "Training set score: 1.00\n",
      "Validation set score: 0.97\n",
      "Test set score: 0.94\n"
     ]
    }
   ],
   "source": [
    "tree = DecisionTreeRegressor(random_state = 0, min_samples_split=2, max_features = 1601)\n",
    "tree.fit(X_train, y_train)\n",
    "print(\"Training set score: {:.2f}\".format(tree.score(X_train, y_train)))\n",
    "print(\"Validation set score: {:.2f}\".format(tree.score(X_valid, y_valid)))\n",
    "print(\"Test set score: {:.2f}\".format(tree.score(data_test, target_test)))"
   ]
  },
  {
   "cell_type": "markdown",
   "metadata": {},
   "source": [
    "## Random Forest"
   ]
  },
  {
   "cell_type": "code",
   "execution_count": 34,
   "metadata": {},
   "outputs": [
    {
     "name": "stderr",
     "output_type": "stream",
     "text": [
      "/Users/hhanchan/anaconda3/lib/python3.6/site-packages/sklearn/model_selection/_validation.py:479: DataConversionWarning: A column-vector y was passed when a 1d array was expected. Please change the shape of y to (n_samples,), for example using ravel().\n",
      "  estimator.fit(X_train, y_train, **fit_params)\n",
      "/Users/hhanchan/anaconda3/lib/python3.6/site-packages/sklearn/model_selection/_validation.py:479: DataConversionWarning: A column-vector y was passed when a 1d array was expected. Please change the shape of y to (n_samples,), for example using ravel().\n",
      "  estimator.fit(X_train, y_train, **fit_params)\n",
      "/Users/hhanchan/anaconda3/lib/python3.6/site-packages/sklearn/model_selection/_validation.py:479: DataConversionWarning: A column-vector y was passed when a 1d array was expected. Please change the shape of y to (n_samples,), for example using ravel().\n",
      "  estimator.fit(X_train, y_train, **fit_params)\n",
      "/Users/hhanchan/anaconda3/lib/python3.6/site-packages/sklearn/model_selection/_validation.py:479: DataConversionWarning: A column-vector y was passed when a 1d array was expected. Please change the shape of y to (n_samples,), for example using ravel().\n",
      "  estimator.fit(X_train, y_train, **fit_params)\n",
      "/Users/hhanchan/anaconda3/lib/python3.6/site-packages/sklearn/model_selection/_validation.py:479: DataConversionWarning: A column-vector y was passed when a 1d array was expected. Please change the shape of y to (n_samples,), for example using ravel().\n",
      "  estimator.fit(X_train, y_train, **fit_params)\n",
      "/Users/hhanchan/anaconda3/lib/python3.6/site-packages/sklearn/model_selection/_validation.py:479: DataConversionWarning: A column-vector y was passed when a 1d array was expected. Please change the shape of y to (n_samples,), for example using ravel().\n",
      "  estimator.fit(X_train, y_train, **fit_params)\n",
      "/Users/hhanchan/anaconda3/lib/python3.6/site-packages/sklearn/model_selection/_validation.py:479: DataConversionWarning: A column-vector y was passed when a 1d array was expected. Please change the shape of y to (n_samples,), for example using ravel().\n",
      "  estimator.fit(X_train, y_train, **fit_params)\n",
      "/Users/hhanchan/anaconda3/lib/python3.6/site-packages/sklearn/model_selection/_validation.py:479: DataConversionWarning: A column-vector y was passed when a 1d array was expected. Please change the shape of y to (n_samples,), for example using ravel().\n",
      "  estimator.fit(X_train, y_train, **fit_params)\n",
      "/Users/hhanchan/anaconda3/lib/python3.6/site-packages/sklearn/model_selection/_validation.py:479: DataConversionWarning: A column-vector y was passed when a 1d array was expected. Please change the shape of y to (n_samples,), for example using ravel().\n",
      "  estimator.fit(X_train, y_train, **fit_params)\n",
      "/Users/hhanchan/anaconda3/lib/python3.6/site-packages/sklearn/model_selection/_validation.py:479: DataConversionWarning: A column-vector y was passed when a 1d array was expected. Please change the shape of y to (n_samples,), for example using ravel().\n",
      "  estimator.fit(X_train, y_train, **fit_params)\n",
      "/Users/hhanchan/anaconda3/lib/python3.6/site-packages/sklearn/model_selection/_validation.py:479: DataConversionWarning: A column-vector y was passed when a 1d array was expected. Please change the shape of y to (n_samples,), for example using ravel().\n",
      "  estimator.fit(X_train, y_train, **fit_params)\n",
      "/Users/hhanchan/anaconda3/lib/python3.6/site-packages/sklearn/model_selection/_validation.py:479: DataConversionWarning: A column-vector y was passed when a 1d array was expected. Please change the shape of y to (n_samples,), for example using ravel().\n",
      "  estimator.fit(X_train, y_train, **fit_params)\n",
      "/Users/hhanchan/anaconda3/lib/python3.6/site-packages/sklearn/model_selection/_validation.py:479: DataConversionWarning: A column-vector y was passed when a 1d array was expected. Please change the shape of y to (n_samples,), for example using ravel().\n",
      "  estimator.fit(X_train, y_train, **fit_params)\n",
      "/Users/hhanchan/anaconda3/lib/python3.6/site-packages/sklearn/model_selection/_validation.py:479: DataConversionWarning: A column-vector y was passed when a 1d array was expected. Please change the shape of y to (n_samples,), for example using ravel().\n",
      "  estimator.fit(X_train, y_train, **fit_params)\n",
      "/Users/hhanchan/anaconda3/lib/python3.6/site-packages/sklearn/model_selection/_validation.py:479: DataConversionWarning: A column-vector y was passed when a 1d array was expected. Please change the shape of y to (n_samples,), for example using ravel().\n",
      "  estimator.fit(X_train, y_train, **fit_params)\n",
      "/Users/hhanchan/anaconda3/lib/python3.6/site-packages/sklearn/model_selection/_validation.py:479: DataConversionWarning: A column-vector y was passed when a 1d array was expected. Please change the shape of y to (n_samples,), for example using ravel().\n",
      "  estimator.fit(X_train, y_train, **fit_params)\n",
      "/Users/hhanchan/anaconda3/lib/python3.6/site-packages/sklearn/model_selection/_validation.py:479: DataConversionWarning: A column-vector y was passed when a 1d array was expected. Please change the shape of y to (n_samples,), for example using ravel().\n",
      "  estimator.fit(X_train, y_train, **fit_params)\n",
      "/Users/hhanchan/anaconda3/lib/python3.6/site-packages/sklearn/model_selection/_validation.py:479: DataConversionWarning: A column-vector y was passed when a 1d array was expected. Please change the shape of y to (n_samples,), for example using ravel().\n",
      "  estimator.fit(X_train, y_train, **fit_params)\n",
      "/Users/hhanchan/anaconda3/lib/python3.6/site-packages/sklearn/model_selection/_validation.py:479: DataConversionWarning: A column-vector y was passed when a 1d array was expected. Please change the shape of y to (n_samples,), for example using ravel().\n",
      "  estimator.fit(X_train, y_train, **fit_params)\n",
      "/Users/hhanchan/anaconda3/lib/python3.6/site-packages/sklearn/model_selection/_validation.py:479: DataConversionWarning: A column-vector y was passed when a 1d array was expected. Please change the shape of y to (n_samples,), for example using ravel().\n",
      "  estimator.fit(X_train, y_train, **fit_params)\n",
      "/Users/hhanchan/anaconda3/lib/python3.6/site-packages/sklearn/model_selection/_validation.py:479: DataConversionWarning: A column-vector y was passed when a 1d array was expected. Please change the shape of y to (n_samples,), for example using ravel().\n",
      "  estimator.fit(X_train, y_train, **fit_params)\n",
      "/Users/hhanchan/anaconda3/lib/python3.6/site-packages/sklearn/model_selection/_validation.py:479: DataConversionWarning: A column-vector y was passed when a 1d array was expected. Please change the shape of y to (n_samples,), for example using ravel().\n",
      "  estimator.fit(X_train, y_train, **fit_params)\n",
      "/Users/hhanchan/anaconda3/lib/python3.6/site-packages/sklearn/model_selection/_validation.py:479: DataConversionWarning: A column-vector y was passed when a 1d array was expected. Please change the shape of y to (n_samples,), for example using ravel().\n",
      "  estimator.fit(X_train, y_train, **fit_params)\n",
      "/Users/hhanchan/anaconda3/lib/python3.6/site-packages/sklearn/model_selection/_validation.py:479: DataConversionWarning: A column-vector y was passed when a 1d array was expected. Please change the shape of y to (n_samples,), for example using ravel().\n",
      "  estimator.fit(X_train, y_train, **fit_params)\n",
      "/Users/hhanchan/anaconda3/lib/python3.6/site-packages/sklearn/model_selection/_validation.py:479: DataConversionWarning: A column-vector y was passed when a 1d array was expected. Please change the shape of y to (n_samples,), for example using ravel().\n",
      "  estimator.fit(X_train, y_train, **fit_params)\n",
      "/Users/hhanchan/anaconda3/lib/python3.6/site-packages/sklearn/model_selection/_validation.py:479: DataConversionWarning: A column-vector y was passed when a 1d array was expected. Please change the shape of y to (n_samples,), for example using ravel().\n",
      "  estimator.fit(X_train, y_train, **fit_params)\n",
      "/Users/hhanchan/anaconda3/lib/python3.6/site-packages/sklearn/model_selection/_validation.py:479: DataConversionWarning: A column-vector y was passed when a 1d array was expected. Please change the shape of y to (n_samples,), for example using ravel().\n",
      "  estimator.fit(X_train, y_train, **fit_params)\n",
      "/Users/hhanchan/anaconda3/lib/python3.6/site-packages/sklearn/model_selection/_validation.py:479: DataConversionWarning: A column-vector y was passed when a 1d array was expected. Please change the shape of y to (n_samples,), for example using ravel().\n",
      "  estimator.fit(X_train, y_train, **fit_params)\n"
     ]
    },
    {
     "name": "stderr",
     "output_type": "stream",
     "text": [
      "/Users/hhanchan/anaconda3/lib/python3.6/site-packages/sklearn/model_selection/_validation.py:479: DataConversionWarning: A column-vector y was passed when a 1d array was expected. Please change the shape of y to (n_samples,), for example using ravel().\n",
      "  estimator.fit(X_train, y_train, **fit_params)\n",
      "/Users/hhanchan/anaconda3/lib/python3.6/site-packages/sklearn/model_selection/_validation.py:479: DataConversionWarning: A column-vector y was passed when a 1d array was expected. Please change the shape of y to (n_samples,), for example using ravel().\n",
      "  estimator.fit(X_train, y_train, **fit_params)\n",
      "/Users/hhanchan/anaconda3/lib/python3.6/site-packages/sklearn/model_selection/_validation.py:479: DataConversionWarning: A column-vector y was passed when a 1d array was expected. Please change the shape of y to (n_samples,), for example using ravel().\n",
      "  estimator.fit(X_train, y_train, **fit_params)\n",
      "/Users/hhanchan/anaconda3/lib/python3.6/site-packages/sklearn/model_selection/_validation.py:479: DataConversionWarning: A column-vector y was passed when a 1d array was expected. Please change the shape of y to (n_samples,), for example using ravel().\n",
      "  estimator.fit(X_train, y_train, **fit_params)\n",
      "/Users/hhanchan/anaconda3/lib/python3.6/site-packages/sklearn/model_selection/_validation.py:479: DataConversionWarning: A column-vector y was passed when a 1d array was expected. Please change the shape of y to (n_samples,), for example using ravel().\n",
      "  estimator.fit(X_train, y_train, **fit_params)\n",
      "/Users/hhanchan/anaconda3/lib/python3.6/site-packages/sklearn/model_selection/_validation.py:479: DataConversionWarning: A column-vector y was passed when a 1d array was expected. Please change the shape of y to (n_samples,), for example using ravel().\n",
      "  estimator.fit(X_train, y_train, **fit_params)\n",
      "/Users/hhanchan/anaconda3/lib/python3.6/site-packages/sklearn/model_selection/_validation.py:479: DataConversionWarning: A column-vector y was passed when a 1d array was expected. Please change the shape of y to (n_samples,), for example using ravel().\n",
      "  estimator.fit(X_train, y_train, **fit_params)\n",
      "/Users/hhanchan/anaconda3/lib/python3.6/site-packages/sklearn/model_selection/_validation.py:479: DataConversionWarning: A column-vector y was passed when a 1d array was expected. Please change the shape of y to (n_samples,), for example using ravel().\n",
      "  estimator.fit(X_train, y_train, **fit_params)\n",
      "/Users/hhanchan/anaconda3/lib/python3.6/site-packages/sklearn/model_selection/_validation.py:479: DataConversionWarning: A column-vector y was passed when a 1d array was expected. Please change the shape of y to (n_samples,), for example using ravel().\n",
      "  estimator.fit(X_train, y_train, **fit_params)\n",
      "/Users/hhanchan/anaconda3/lib/python3.6/site-packages/sklearn/model_selection/_validation.py:479: DataConversionWarning: A column-vector y was passed when a 1d array was expected. Please change the shape of y to (n_samples,), for example using ravel().\n",
      "  estimator.fit(X_train, y_train, **fit_params)\n",
      "/Users/hhanchan/anaconda3/lib/python3.6/site-packages/sklearn/model_selection/_validation.py:479: DataConversionWarning: A column-vector y was passed when a 1d array was expected. Please change the shape of y to (n_samples,), for example using ravel().\n",
      "  estimator.fit(X_train, y_train, **fit_params)\n",
      "/Users/hhanchan/anaconda3/lib/python3.6/site-packages/sklearn/model_selection/_validation.py:479: DataConversionWarning: A column-vector y was passed when a 1d array was expected. Please change the shape of y to (n_samples,), for example using ravel().\n",
      "  estimator.fit(X_train, y_train, **fit_params)\n",
      "/Users/hhanchan/anaconda3/lib/python3.6/site-packages/sklearn/model_selection/_validation.py:479: DataConversionWarning: A column-vector y was passed when a 1d array was expected. Please change the shape of y to (n_samples,), for example using ravel().\n",
      "  estimator.fit(X_train, y_train, **fit_params)\n",
      "/Users/hhanchan/anaconda3/lib/python3.6/site-packages/sklearn/model_selection/_validation.py:479: DataConversionWarning: A column-vector y was passed when a 1d array was expected. Please change the shape of y to (n_samples,), for example using ravel().\n",
      "  estimator.fit(X_train, y_train, **fit_params)\n",
      "/Users/hhanchan/anaconda3/lib/python3.6/site-packages/sklearn/model_selection/_validation.py:479: DataConversionWarning: A column-vector y was passed when a 1d array was expected. Please change the shape of y to (n_samples,), for example using ravel().\n",
      "  estimator.fit(X_train, y_train, **fit_params)\n",
      "/Users/hhanchan/anaconda3/lib/python3.6/site-packages/sklearn/model_selection/_validation.py:479: DataConversionWarning: A column-vector y was passed when a 1d array was expected. Please change the shape of y to (n_samples,), for example using ravel().\n",
      "  estimator.fit(X_train, y_train, **fit_params)\n",
      "/Users/hhanchan/anaconda3/lib/python3.6/site-packages/sklearn/model_selection/_validation.py:479: DataConversionWarning: A column-vector y was passed when a 1d array was expected. Please change the shape of y to (n_samples,), for example using ravel().\n",
      "  estimator.fit(X_train, y_train, **fit_params)\n",
      "/Users/hhanchan/anaconda3/lib/python3.6/site-packages/sklearn/model_selection/_validation.py:479: DataConversionWarning: A column-vector y was passed when a 1d array was expected. Please change the shape of y to (n_samples,), for example using ravel().\n",
      "  estimator.fit(X_train, y_train, **fit_params)\n",
      "/Users/hhanchan/anaconda3/lib/python3.6/site-packages/sklearn/model_selection/_validation.py:479: DataConversionWarning: A column-vector y was passed when a 1d array was expected. Please change the shape of y to (n_samples,), for example using ravel().\n",
      "  estimator.fit(X_train, y_train, **fit_params)\n",
      "/Users/hhanchan/anaconda3/lib/python3.6/site-packages/sklearn/model_selection/_validation.py:479: DataConversionWarning: A column-vector y was passed when a 1d array was expected. Please change the shape of y to (n_samples,), for example using ravel().\n",
      "  estimator.fit(X_train, y_train, **fit_params)\n",
      "/Users/hhanchan/anaconda3/lib/python3.6/site-packages/sklearn/model_selection/_validation.py:479: DataConversionWarning: A column-vector y was passed when a 1d array was expected. Please change the shape of y to (n_samples,), for example using ravel().\n",
      "  estimator.fit(X_train, y_train, **fit_params)\n",
      "/Users/hhanchan/anaconda3/lib/python3.6/site-packages/sklearn/model_selection/_validation.py:479: DataConversionWarning: A column-vector y was passed when a 1d array was expected. Please change the shape of y to (n_samples,), for example using ravel().\n",
      "  estimator.fit(X_train, y_train, **fit_params)\n",
      "/Users/hhanchan/anaconda3/lib/python3.6/site-packages/sklearn/model_selection/_validation.py:479: DataConversionWarning: A column-vector y was passed when a 1d array was expected. Please change the shape of y to (n_samples,), for example using ravel().\n",
      "  estimator.fit(X_train, y_train, **fit_params)\n",
      "/Users/hhanchan/anaconda3/lib/python3.6/site-packages/sklearn/model_selection/_validation.py:479: DataConversionWarning: A column-vector y was passed when a 1d array was expected. Please change the shape of y to (n_samples,), for example using ravel().\n",
      "  estimator.fit(X_train, y_train, **fit_params)\n",
      "/Users/hhanchan/anaconda3/lib/python3.6/site-packages/sklearn/model_selection/_validation.py:479: DataConversionWarning: A column-vector y was passed when a 1d array was expected. Please change the shape of y to (n_samples,), for example using ravel().\n",
      "  estimator.fit(X_train, y_train, **fit_params)\n",
      "/Users/hhanchan/anaconda3/lib/python3.6/site-packages/sklearn/model_selection/_validation.py:479: DataConversionWarning: A column-vector y was passed when a 1d array was expected. Please change the shape of y to (n_samples,), for example using ravel().\n",
      "  estimator.fit(X_train, y_train, **fit_params)\n",
      "/Users/hhanchan/anaconda3/lib/python3.6/site-packages/sklearn/model_selection/_validation.py:479: DataConversionWarning: A column-vector y was passed when a 1d array was expected. Please change the shape of y to (n_samples,), for example using ravel().\n",
      "  estimator.fit(X_train, y_train, **fit_params)\n",
      "/Users/hhanchan/anaconda3/lib/python3.6/site-packages/sklearn/model_selection/_validation.py:479: DataConversionWarning: A column-vector y was passed when a 1d array was expected. Please change the shape of y to (n_samples,), for example using ravel().\n",
      "  estimator.fit(X_train, y_train, **fit_params)\n"
     ]
    },
    {
     "name": "stderr",
     "output_type": "stream",
     "text": [
      "/Users/hhanchan/anaconda3/lib/python3.6/site-packages/sklearn/model_selection/_validation.py:479: DataConversionWarning: A column-vector y was passed when a 1d array was expected. Please change the shape of y to (n_samples,), for example using ravel().\n",
      "  estimator.fit(X_train, y_train, **fit_params)\n",
      "/Users/hhanchan/anaconda3/lib/python3.6/site-packages/sklearn/model_selection/_validation.py:479: DataConversionWarning: A column-vector y was passed when a 1d array was expected. Please change the shape of y to (n_samples,), for example using ravel().\n",
      "  estimator.fit(X_train, y_train, **fit_params)\n",
      "/Users/hhanchan/anaconda3/lib/python3.6/site-packages/sklearn/model_selection/_validation.py:479: DataConversionWarning: A column-vector y was passed when a 1d array was expected. Please change the shape of y to (n_samples,), for example using ravel().\n",
      "  estimator.fit(X_train, y_train, **fit_params)\n",
      "/Users/hhanchan/anaconda3/lib/python3.6/site-packages/sklearn/model_selection/_validation.py:479: DataConversionWarning: A column-vector y was passed when a 1d array was expected. Please change the shape of y to (n_samples,), for example using ravel().\n",
      "  estimator.fit(X_train, y_train, **fit_params)\n",
      "/Users/hhanchan/anaconda3/lib/python3.6/site-packages/sklearn/model_selection/_validation.py:479: DataConversionWarning: A column-vector y was passed when a 1d array was expected. Please change the shape of y to (n_samples,), for example using ravel().\n",
      "  estimator.fit(X_train, y_train, **fit_params)\n",
      "/Users/hhanchan/anaconda3/lib/python3.6/site-packages/sklearn/model_selection/_validation.py:479: DataConversionWarning: A column-vector y was passed when a 1d array was expected. Please change the shape of y to (n_samples,), for example using ravel().\n",
      "  estimator.fit(X_train, y_train, **fit_params)\n",
      "/Users/hhanchan/anaconda3/lib/python3.6/site-packages/sklearn/model_selection/_validation.py:479: DataConversionWarning: A column-vector y was passed when a 1d array was expected. Please change the shape of y to (n_samples,), for example using ravel().\n",
      "  estimator.fit(X_train, y_train, **fit_params)\n",
      "/Users/hhanchan/anaconda3/lib/python3.6/site-packages/sklearn/model_selection/_validation.py:479: DataConversionWarning: A column-vector y was passed when a 1d array was expected. Please change the shape of y to (n_samples,), for example using ravel().\n",
      "  estimator.fit(X_train, y_train, **fit_params)\n",
      "/Users/hhanchan/anaconda3/lib/python3.6/site-packages/sklearn/model_selection/_validation.py:479: DataConversionWarning: A column-vector y was passed when a 1d array was expected. Please change the shape of y to (n_samples,), for example using ravel().\n",
      "  estimator.fit(X_train, y_train, **fit_params)\n",
      "/Users/hhanchan/anaconda3/lib/python3.6/site-packages/sklearn/model_selection/_validation.py:479: DataConversionWarning: A column-vector y was passed when a 1d array was expected. Please change the shape of y to (n_samples,), for example using ravel().\n",
      "  estimator.fit(X_train, y_train, **fit_params)\n",
      "/Users/hhanchan/anaconda3/lib/python3.6/site-packages/sklearn/model_selection/_validation.py:479: DataConversionWarning: A column-vector y was passed when a 1d array was expected. Please change the shape of y to (n_samples,), for example using ravel().\n",
      "  estimator.fit(X_train, y_train, **fit_params)\n",
      "/Users/hhanchan/anaconda3/lib/python3.6/site-packages/sklearn/model_selection/_validation.py:479: DataConversionWarning: A column-vector y was passed when a 1d array was expected. Please change the shape of y to (n_samples,), for example using ravel().\n",
      "  estimator.fit(X_train, y_train, **fit_params)\n",
      "/Users/hhanchan/anaconda3/lib/python3.6/site-packages/sklearn/model_selection/_validation.py:479: DataConversionWarning: A column-vector y was passed when a 1d array was expected. Please change the shape of y to (n_samples,), for example using ravel().\n",
      "  estimator.fit(X_train, y_train, **fit_params)\n",
      "/Users/hhanchan/anaconda3/lib/python3.6/site-packages/sklearn/model_selection/_validation.py:479: DataConversionWarning: A column-vector y was passed when a 1d array was expected. Please change the shape of y to (n_samples,), for example using ravel().\n",
      "  estimator.fit(X_train, y_train, **fit_params)\n",
      "/Users/hhanchan/anaconda3/lib/python3.6/site-packages/sklearn/model_selection/_validation.py:479: DataConversionWarning: A column-vector y was passed when a 1d array was expected. Please change the shape of y to (n_samples,), for example using ravel().\n",
      "  estimator.fit(X_train, y_train, **fit_params)\n",
      "/Users/hhanchan/anaconda3/lib/python3.6/site-packages/sklearn/model_selection/_validation.py:479: DataConversionWarning: A column-vector y was passed when a 1d array was expected. Please change the shape of y to (n_samples,), for example using ravel().\n",
      "  estimator.fit(X_train, y_train, **fit_params)\n",
      "/Users/hhanchan/anaconda3/lib/python3.6/site-packages/sklearn/model_selection/_validation.py:479: DataConversionWarning: A column-vector y was passed when a 1d array was expected. Please change the shape of y to (n_samples,), for example using ravel().\n",
      "  estimator.fit(X_train, y_train, **fit_params)\n",
      "/Users/hhanchan/anaconda3/lib/python3.6/site-packages/sklearn/model_selection/_validation.py:479: DataConversionWarning: A column-vector y was passed when a 1d array was expected. Please change the shape of y to (n_samples,), for example using ravel().\n",
      "  estimator.fit(X_train, y_train, **fit_params)\n",
      "/Users/hhanchan/anaconda3/lib/python3.6/site-packages/sklearn/model_selection/_validation.py:479: DataConversionWarning: A column-vector y was passed when a 1d array was expected. Please change the shape of y to (n_samples,), for example using ravel().\n",
      "  estimator.fit(X_train, y_train, **fit_params)\n",
      "/Users/hhanchan/anaconda3/lib/python3.6/site-packages/sklearn/model_selection/_validation.py:479: DataConversionWarning: A column-vector y was passed when a 1d array was expected. Please change the shape of y to (n_samples,), for example using ravel().\n",
      "  estimator.fit(X_train, y_train, **fit_params)\n",
      "/Users/hhanchan/anaconda3/lib/python3.6/site-packages/sklearn/model_selection/_validation.py:479: DataConversionWarning: A column-vector y was passed when a 1d array was expected. Please change the shape of y to (n_samples,), for example using ravel().\n",
      "  estimator.fit(X_train, y_train, **fit_params)\n",
      "/Users/hhanchan/anaconda3/lib/python3.6/site-packages/sklearn/model_selection/_validation.py:479: DataConversionWarning: A column-vector y was passed when a 1d array was expected. Please change the shape of y to (n_samples,), for example using ravel().\n",
      "  estimator.fit(X_train, y_train, **fit_params)\n",
      "/Users/hhanchan/anaconda3/lib/python3.6/site-packages/sklearn/model_selection/_validation.py:479: DataConversionWarning: A column-vector y was passed when a 1d array was expected. Please change the shape of y to (n_samples,), for example using ravel().\n",
      "  estimator.fit(X_train, y_train, **fit_params)\n",
      "/Users/hhanchan/anaconda3/lib/python3.6/site-packages/sklearn/model_selection/_validation.py:479: DataConversionWarning: A column-vector y was passed when a 1d array was expected. Please change the shape of y to (n_samples,), for example using ravel().\n",
      "  estimator.fit(X_train, y_train, **fit_params)\n",
      "/Users/hhanchan/anaconda3/lib/python3.6/site-packages/sklearn/model_selection/_validation.py:479: DataConversionWarning: A column-vector y was passed when a 1d array was expected. Please change the shape of y to (n_samples,), for example using ravel().\n",
      "  estimator.fit(X_train, y_train, **fit_params)\n",
      "/Users/hhanchan/anaconda3/lib/python3.6/site-packages/sklearn/model_selection/_validation.py:479: DataConversionWarning: A column-vector y was passed when a 1d array was expected. Please change the shape of y to (n_samples,), for example using ravel().\n",
      "  estimator.fit(X_train, y_train, **fit_params)\n",
      "/Users/hhanchan/anaconda3/lib/python3.6/site-packages/sklearn/model_selection/_validation.py:479: DataConversionWarning: A column-vector y was passed when a 1d array was expected. Please change the shape of y to (n_samples,), for example using ravel().\n",
      "  estimator.fit(X_train, y_train, **fit_params)\n",
      "/Users/hhanchan/anaconda3/lib/python3.6/site-packages/sklearn/model_selection/_validation.py:479: DataConversionWarning: A column-vector y was passed when a 1d array was expected. Please change the shape of y to (n_samples,), for example using ravel().\n",
      "  estimator.fit(X_train, y_train, **fit_params)\n"
     ]
    },
    {
     "name": "stderr",
     "output_type": "stream",
     "text": [
      "/Users/hhanchan/anaconda3/lib/python3.6/site-packages/sklearn/model_selection/_validation.py:479: DataConversionWarning: A column-vector y was passed when a 1d array was expected. Please change the shape of y to (n_samples,), for example using ravel().\n",
      "  estimator.fit(X_train, y_train, **fit_params)\n",
      "/Users/hhanchan/anaconda3/lib/python3.6/site-packages/sklearn/model_selection/_validation.py:479: DataConversionWarning: A column-vector y was passed when a 1d array was expected. Please change the shape of y to (n_samples,), for example using ravel().\n",
      "  estimator.fit(X_train, y_train, **fit_params)\n",
      "/Users/hhanchan/anaconda3/lib/python3.6/site-packages/sklearn/model_selection/_validation.py:479: DataConversionWarning: A column-vector y was passed when a 1d array was expected. Please change the shape of y to (n_samples,), for example using ravel().\n",
      "  estimator.fit(X_train, y_train, **fit_params)\n",
      "/Users/hhanchan/anaconda3/lib/python3.6/site-packages/sklearn/model_selection/_validation.py:479: DataConversionWarning: A column-vector y was passed when a 1d array was expected. Please change the shape of y to (n_samples,), for example using ravel().\n",
      "  estimator.fit(X_train, y_train, **fit_params)\n",
      "/Users/hhanchan/anaconda3/lib/python3.6/site-packages/sklearn/model_selection/_validation.py:479: DataConversionWarning: A column-vector y was passed when a 1d array was expected. Please change the shape of y to (n_samples,), for example using ravel().\n",
      "  estimator.fit(X_train, y_train, **fit_params)\n",
      "/Users/hhanchan/anaconda3/lib/python3.6/site-packages/sklearn/model_selection/_validation.py:479: DataConversionWarning: A column-vector y was passed when a 1d array was expected. Please change the shape of y to (n_samples,), for example using ravel().\n",
      "  estimator.fit(X_train, y_train, **fit_params)\n",
      "/Users/hhanchan/anaconda3/lib/python3.6/site-packages/sklearn/model_selection/_validation.py:479: DataConversionWarning: A column-vector y was passed when a 1d array was expected. Please change the shape of y to (n_samples,), for example using ravel().\n",
      "  estimator.fit(X_train, y_train, **fit_params)\n",
      "/Users/hhanchan/anaconda3/lib/python3.6/site-packages/sklearn/model_selection/_validation.py:479: DataConversionWarning: A column-vector y was passed when a 1d array was expected. Please change the shape of y to (n_samples,), for example using ravel().\n",
      "  estimator.fit(X_train, y_train, **fit_params)\n",
      "/Users/hhanchan/anaconda3/lib/python3.6/site-packages/sklearn/model_selection/_validation.py:479: DataConversionWarning: A column-vector y was passed when a 1d array was expected. Please change the shape of y to (n_samples,), for example using ravel().\n",
      "  estimator.fit(X_train, y_train, **fit_params)\n",
      "/Users/hhanchan/anaconda3/lib/python3.6/site-packages/sklearn/model_selection/_validation.py:479: DataConversionWarning: A column-vector y was passed when a 1d array was expected. Please change the shape of y to (n_samples,), for example using ravel().\n",
      "  estimator.fit(X_train, y_train, **fit_params)\n",
      "/Users/hhanchan/anaconda3/lib/python3.6/site-packages/sklearn/model_selection/_validation.py:479: DataConversionWarning: A column-vector y was passed when a 1d array was expected. Please change the shape of y to (n_samples,), for example using ravel().\n",
      "  estimator.fit(X_train, y_train, **fit_params)\n",
      "/Users/hhanchan/anaconda3/lib/python3.6/site-packages/sklearn/model_selection/_validation.py:479: DataConversionWarning: A column-vector y was passed when a 1d array was expected. Please change the shape of y to (n_samples,), for example using ravel().\n",
      "  estimator.fit(X_train, y_train, **fit_params)\n",
      "/Users/hhanchan/anaconda3/lib/python3.6/site-packages/sklearn/model_selection/_validation.py:479: DataConversionWarning: A column-vector y was passed when a 1d array was expected. Please change the shape of y to (n_samples,), for example using ravel().\n",
      "  estimator.fit(X_train, y_train, **fit_params)\n",
      "/Users/hhanchan/anaconda3/lib/python3.6/site-packages/sklearn/model_selection/_validation.py:479: DataConversionWarning: A column-vector y was passed when a 1d array was expected. Please change the shape of y to (n_samples,), for example using ravel().\n",
      "  estimator.fit(X_train, y_train, **fit_params)\n",
      "/Users/hhanchan/anaconda3/lib/python3.6/site-packages/sklearn/model_selection/_validation.py:479: DataConversionWarning: A column-vector y was passed when a 1d array was expected. Please change the shape of y to (n_samples,), for example using ravel().\n",
      "  estimator.fit(X_train, y_train, **fit_params)\n",
      "/Users/hhanchan/anaconda3/lib/python3.6/site-packages/sklearn/model_selection/_validation.py:479: DataConversionWarning: A column-vector y was passed when a 1d array was expected. Please change the shape of y to (n_samples,), for example using ravel().\n",
      "  estimator.fit(X_train, y_train, **fit_params)\n",
      "/Users/hhanchan/anaconda3/lib/python3.6/site-packages/sklearn/model_selection/_validation.py:479: DataConversionWarning: A column-vector y was passed when a 1d array was expected. Please change the shape of y to (n_samples,), for example using ravel().\n",
      "  estimator.fit(X_train, y_train, **fit_params)\n",
      "/Users/hhanchan/anaconda3/lib/python3.6/site-packages/sklearn/model_selection/_validation.py:479: DataConversionWarning: A column-vector y was passed when a 1d array was expected. Please change the shape of y to (n_samples,), for example using ravel().\n",
      "  estimator.fit(X_train, y_train, **fit_params)\n",
      "/Users/hhanchan/anaconda3/lib/python3.6/site-packages/sklearn/model_selection/_validation.py:479: DataConversionWarning: A column-vector y was passed when a 1d array was expected. Please change the shape of y to (n_samples,), for example using ravel().\n",
      "  estimator.fit(X_train, y_train, **fit_params)\n",
      "/Users/hhanchan/anaconda3/lib/python3.6/site-packages/sklearn/model_selection/_validation.py:479: DataConversionWarning: A column-vector y was passed when a 1d array was expected. Please change the shape of y to (n_samples,), for example using ravel().\n",
      "  estimator.fit(X_train, y_train, **fit_params)\n",
      "/Users/hhanchan/anaconda3/lib/python3.6/site-packages/sklearn/model_selection/_validation.py:479: DataConversionWarning: A column-vector y was passed when a 1d array was expected. Please change the shape of y to (n_samples,), for example using ravel().\n",
      "  estimator.fit(X_train, y_train, **fit_params)\n",
      "/Users/hhanchan/anaconda3/lib/python3.6/site-packages/sklearn/model_selection/_validation.py:479: DataConversionWarning: A column-vector y was passed when a 1d array was expected. Please change the shape of y to (n_samples,), for example using ravel().\n",
      "  estimator.fit(X_train, y_train, **fit_params)\n",
      "/Users/hhanchan/anaconda3/lib/python3.6/site-packages/sklearn/model_selection/_validation.py:479: DataConversionWarning: A column-vector y was passed when a 1d array was expected. Please change the shape of y to (n_samples,), for example using ravel().\n",
      "  estimator.fit(X_train, y_train, **fit_params)\n",
      "/Users/hhanchan/anaconda3/lib/python3.6/site-packages/sklearn/model_selection/_validation.py:479: DataConversionWarning: A column-vector y was passed when a 1d array was expected. Please change the shape of y to (n_samples,), for example using ravel().\n",
      "  estimator.fit(X_train, y_train, **fit_params)\n",
      "/Users/hhanchan/anaconda3/lib/python3.6/site-packages/sklearn/model_selection/_validation.py:479: DataConversionWarning: A column-vector y was passed when a 1d array was expected. Please change the shape of y to (n_samples,), for example using ravel().\n",
      "  estimator.fit(X_train, y_train, **fit_params)\n",
      "/Users/hhanchan/anaconda3/lib/python3.6/site-packages/sklearn/model_selection/_validation.py:479: DataConversionWarning: A column-vector y was passed when a 1d array was expected. Please change the shape of y to (n_samples,), for example using ravel().\n",
      "  estimator.fit(X_train, y_train, **fit_params)\n",
      "/Users/hhanchan/anaconda3/lib/python3.6/site-packages/sklearn/model_selection/_validation.py:479: DataConversionWarning: A column-vector y was passed when a 1d array was expected. Please change the shape of y to (n_samples,), for example using ravel().\n",
      "  estimator.fit(X_train, y_train, **fit_params)\n",
      "/Users/hhanchan/anaconda3/lib/python3.6/site-packages/sklearn/model_selection/_validation.py:479: DataConversionWarning: A column-vector y was passed when a 1d array was expected. Please change the shape of y to (n_samples,), for example using ravel().\n",
      "  estimator.fit(X_train, y_train, **fit_params)\n"
     ]
    },
    {
     "name": "stderr",
     "output_type": "stream",
     "text": [
      "/Users/hhanchan/anaconda3/lib/python3.6/site-packages/sklearn/model_selection/_validation.py:479: DataConversionWarning: A column-vector y was passed when a 1d array was expected. Please change the shape of y to (n_samples,), for example using ravel().\n",
      "  estimator.fit(X_train, y_train, **fit_params)\n",
      "/Users/hhanchan/anaconda3/lib/python3.6/site-packages/sklearn/model_selection/_validation.py:479: DataConversionWarning: A column-vector y was passed when a 1d array was expected. Please change the shape of y to (n_samples,), for example using ravel().\n",
      "  estimator.fit(X_train, y_train, **fit_params)\n",
      "/Users/hhanchan/anaconda3/lib/python3.6/site-packages/sklearn/model_selection/_validation.py:479: DataConversionWarning: A column-vector y was passed when a 1d array was expected. Please change the shape of y to (n_samples,), for example using ravel().\n",
      "  estimator.fit(X_train, y_train, **fit_params)\n",
      "/Users/hhanchan/anaconda3/lib/python3.6/site-packages/sklearn/model_selection/_validation.py:479: DataConversionWarning: A column-vector y was passed when a 1d array was expected. Please change the shape of y to (n_samples,), for example using ravel().\n",
      "  estimator.fit(X_train, y_train, **fit_params)\n",
      "/Users/hhanchan/anaconda3/lib/python3.6/site-packages/sklearn/model_selection/_validation.py:479: DataConversionWarning: A column-vector y was passed when a 1d array was expected. Please change the shape of y to (n_samples,), for example using ravel().\n",
      "  estimator.fit(X_train, y_train, **fit_params)\n",
      "/Users/hhanchan/anaconda3/lib/python3.6/site-packages/sklearn/model_selection/_validation.py:479: DataConversionWarning: A column-vector y was passed when a 1d array was expected. Please change the shape of y to (n_samples,), for example using ravel().\n",
      "  estimator.fit(X_train, y_train, **fit_params)\n",
      "/Users/hhanchan/anaconda3/lib/python3.6/site-packages/sklearn/model_selection/_validation.py:479: DataConversionWarning: A column-vector y was passed when a 1d array was expected. Please change the shape of y to (n_samples,), for example using ravel().\n",
      "  estimator.fit(X_train, y_train, **fit_params)\n",
      "/Users/hhanchan/anaconda3/lib/python3.6/site-packages/sklearn/model_selection/_validation.py:479: DataConversionWarning: A column-vector y was passed when a 1d array was expected. Please change the shape of y to (n_samples,), for example using ravel().\n",
      "  estimator.fit(X_train, y_train, **fit_params)\n",
      "/Users/hhanchan/anaconda3/lib/python3.6/site-packages/sklearn/model_selection/_validation.py:479: DataConversionWarning: A column-vector y was passed when a 1d array was expected. Please change the shape of y to (n_samples,), for example using ravel().\n",
      "  estimator.fit(X_train, y_train, **fit_params)\n",
      "/Users/hhanchan/anaconda3/lib/python3.6/site-packages/sklearn/model_selection/_validation.py:479: DataConversionWarning: A column-vector y was passed when a 1d array was expected. Please change the shape of y to (n_samples,), for example using ravel().\n",
      "  estimator.fit(X_train, y_train, **fit_params)\n",
      "/Users/hhanchan/anaconda3/lib/python3.6/site-packages/sklearn/model_selection/_validation.py:479: DataConversionWarning: A column-vector y was passed when a 1d array was expected. Please change the shape of y to (n_samples,), for example using ravel().\n",
      "  estimator.fit(X_train, y_train, **fit_params)\n",
      "/Users/hhanchan/anaconda3/lib/python3.6/site-packages/sklearn/model_selection/_validation.py:479: DataConversionWarning: A column-vector y was passed when a 1d array was expected. Please change the shape of y to (n_samples,), for example using ravel().\n",
      "  estimator.fit(X_train, y_train, **fit_params)\n",
      "/Users/hhanchan/anaconda3/lib/python3.6/site-packages/sklearn/model_selection/_validation.py:479: DataConversionWarning: A column-vector y was passed when a 1d array was expected. Please change the shape of y to (n_samples,), for example using ravel().\n",
      "  estimator.fit(X_train, y_train, **fit_params)\n",
      "/Users/hhanchan/anaconda3/lib/python3.6/site-packages/sklearn/model_selection/_validation.py:479: DataConversionWarning: A column-vector y was passed when a 1d array was expected. Please change the shape of y to (n_samples,), for example using ravel().\n",
      "  estimator.fit(X_train, y_train, **fit_params)\n",
      "/Users/hhanchan/anaconda3/lib/python3.6/site-packages/sklearn/model_selection/_validation.py:479: DataConversionWarning: A column-vector y was passed when a 1d array was expected. Please change the shape of y to (n_samples,), for example using ravel().\n",
      "  estimator.fit(X_train, y_train, **fit_params)\n",
      "/Users/hhanchan/anaconda3/lib/python3.6/site-packages/sklearn/model_selection/_validation.py:479: DataConversionWarning: A column-vector y was passed when a 1d array was expected. Please change the shape of y to (n_samples,), for example using ravel().\n",
      "  estimator.fit(X_train, y_train, **fit_params)\n",
      "/Users/hhanchan/anaconda3/lib/python3.6/site-packages/sklearn/model_selection/_validation.py:479: DataConversionWarning: A column-vector y was passed when a 1d array was expected. Please change the shape of y to (n_samples,), for example using ravel().\n",
      "  estimator.fit(X_train, y_train, **fit_params)\n",
      "/Users/hhanchan/anaconda3/lib/python3.6/site-packages/sklearn/model_selection/_validation.py:479: DataConversionWarning: A column-vector y was passed when a 1d array was expected. Please change the shape of y to (n_samples,), for example using ravel().\n",
      "  estimator.fit(X_train, y_train, **fit_params)\n",
      "/Users/hhanchan/anaconda3/lib/python3.6/site-packages/sklearn/model_selection/_validation.py:479: DataConversionWarning: A column-vector y was passed when a 1d array was expected. Please change the shape of y to (n_samples,), for example using ravel().\n",
      "  estimator.fit(X_train, y_train, **fit_params)\n",
      "/Users/hhanchan/anaconda3/lib/python3.6/site-packages/sklearn/model_selection/_validation.py:479: DataConversionWarning: A column-vector y was passed when a 1d array was expected. Please change the shape of y to (n_samples,), for example using ravel().\n",
      "  estimator.fit(X_train, y_train, **fit_params)\n",
      "/Users/hhanchan/anaconda3/lib/python3.6/site-packages/sklearn/model_selection/_validation.py:479: DataConversionWarning: A column-vector y was passed when a 1d array was expected. Please change the shape of y to (n_samples,), for example using ravel().\n",
      "  estimator.fit(X_train, y_train, **fit_params)\n",
      "/Users/hhanchan/anaconda3/lib/python3.6/site-packages/sklearn/model_selection/_validation.py:479: DataConversionWarning: A column-vector y was passed when a 1d array was expected. Please change the shape of y to (n_samples,), for example using ravel().\n",
      "  estimator.fit(X_train, y_train, **fit_params)\n",
      "/Users/hhanchan/anaconda3/lib/python3.6/site-packages/sklearn/model_selection/_validation.py:479: DataConversionWarning: A column-vector y was passed when a 1d array was expected. Please change the shape of y to (n_samples,), for example using ravel().\n",
      "  estimator.fit(X_train, y_train, **fit_params)\n",
      "/Users/hhanchan/anaconda3/lib/python3.6/site-packages/sklearn/model_selection/_validation.py:479: DataConversionWarning: A column-vector y was passed when a 1d array was expected. Please change the shape of y to (n_samples,), for example using ravel().\n",
      "  estimator.fit(X_train, y_train, **fit_params)\n",
      "/Users/hhanchan/anaconda3/lib/python3.6/site-packages/sklearn/model_selection/_validation.py:479: DataConversionWarning: A column-vector y was passed when a 1d array was expected. Please change the shape of y to (n_samples,), for example using ravel().\n",
      "  estimator.fit(X_train, y_train, **fit_params)\n",
      "/Users/hhanchan/anaconda3/lib/python3.6/site-packages/sklearn/model_selection/_validation.py:479: DataConversionWarning: A column-vector y was passed when a 1d array was expected. Please change the shape of y to (n_samples,), for example using ravel().\n",
      "  estimator.fit(X_train, y_train, **fit_params)\n",
      "/Users/hhanchan/anaconda3/lib/python3.6/site-packages/sklearn/model_selection/_validation.py:479: DataConversionWarning: A column-vector y was passed when a 1d array was expected. Please change the shape of y to (n_samples,), for example using ravel().\n",
      "  estimator.fit(X_train, y_train, **fit_params)\n",
      "/Users/hhanchan/anaconda3/lib/python3.6/site-packages/sklearn/model_selection/_validation.py:479: DataConversionWarning: A column-vector y was passed when a 1d array was expected. Please change the shape of y to (n_samples,), for example using ravel().\n",
      "  estimator.fit(X_train, y_train, **fit_params)\n"
     ]
    },
    {
     "name": "stderr",
     "output_type": "stream",
     "text": [
      "/Users/hhanchan/anaconda3/lib/python3.6/site-packages/sklearn/model_selection/_validation.py:479: DataConversionWarning: A column-vector y was passed when a 1d array was expected. Please change the shape of y to (n_samples,), for example using ravel().\n",
      "  estimator.fit(X_train, y_train, **fit_params)\n",
      "/Users/hhanchan/anaconda3/lib/python3.6/site-packages/sklearn/model_selection/_validation.py:479: DataConversionWarning: A column-vector y was passed when a 1d array was expected. Please change the shape of y to (n_samples,), for example using ravel().\n",
      "  estimator.fit(X_train, y_train, **fit_params)\n",
      "/Users/hhanchan/anaconda3/lib/python3.6/site-packages/sklearn/model_selection/_validation.py:479: DataConversionWarning: A column-vector y was passed when a 1d array was expected. Please change the shape of y to (n_samples,), for example using ravel().\n",
      "  estimator.fit(X_train, y_train, **fit_params)\n",
      "/Users/hhanchan/anaconda3/lib/python3.6/site-packages/sklearn/model_selection/_validation.py:479: DataConversionWarning: A column-vector y was passed when a 1d array was expected. Please change the shape of y to (n_samples,), for example using ravel().\n",
      "  estimator.fit(X_train, y_train, **fit_params)\n",
      "/Users/hhanchan/anaconda3/lib/python3.6/site-packages/sklearn/model_selection/_validation.py:479: DataConversionWarning: A column-vector y was passed when a 1d array was expected. Please change the shape of y to (n_samples,), for example using ravel().\n",
      "  estimator.fit(X_train, y_train, **fit_params)\n",
      "/Users/hhanchan/anaconda3/lib/python3.6/site-packages/sklearn/model_selection/_validation.py:479: DataConversionWarning: A column-vector y was passed when a 1d array was expected. Please change the shape of y to (n_samples,), for example using ravel().\n",
      "  estimator.fit(X_train, y_train, **fit_params)\n",
      "/Users/hhanchan/anaconda3/lib/python3.6/site-packages/sklearn/model_selection/_validation.py:479: DataConversionWarning: A column-vector y was passed when a 1d array was expected. Please change the shape of y to (n_samples,), for example using ravel().\n",
      "  estimator.fit(X_train, y_train, **fit_params)\n",
      "/Users/hhanchan/anaconda3/lib/python3.6/site-packages/sklearn/model_selection/_validation.py:479: DataConversionWarning: A column-vector y was passed when a 1d array was expected. Please change the shape of y to (n_samples,), for example using ravel().\n",
      "  estimator.fit(X_train, y_train, **fit_params)\n",
      "/Users/hhanchan/anaconda3/lib/python3.6/site-packages/sklearn/model_selection/_validation.py:479: DataConversionWarning: A column-vector y was passed when a 1d array was expected. Please change the shape of y to (n_samples,), for example using ravel().\n",
      "  estimator.fit(X_train, y_train, **fit_params)\n",
      "/Users/hhanchan/anaconda3/lib/python3.6/site-packages/sklearn/model_selection/_validation.py:479: DataConversionWarning: A column-vector y was passed when a 1d array was expected. Please change the shape of y to (n_samples,), for example using ravel().\n",
      "  estimator.fit(X_train, y_train, **fit_params)\n",
      "/Users/hhanchan/anaconda3/lib/python3.6/site-packages/sklearn/model_selection/_validation.py:479: DataConversionWarning: A column-vector y was passed when a 1d array was expected. Please change the shape of y to (n_samples,), for example using ravel().\n",
      "  estimator.fit(X_train, y_train, **fit_params)\n",
      "/Users/hhanchan/anaconda3/lib/python3.6/site-packages/sklearn/model_selection/_validation.py:479: DataConversionWarning: A column-vector y was passed when a 1d array was expected. Please change the shape of y to (n_samples,), for example using ravel().\n",
      "  estimator.fit(X_train, y_train, **fit_params)\n",
      "/Users/hhanchan/anaconda3/lib/python3.6/site-packages/sklearn/model_selection/_validation.py:479: DataConversionWarning: A column-vector y was passed when a 1d array was expected. Please change the shape of y to (n_samples,), for example using ravel().\n",
      "  estimator.fit(X_train, y_train, **fit_params)\n",
      "/Users/hhanchan/anaconda3/lib/python3.6/site-packages/sklearn/model_selection/_validation.py:479: DataConversionWarning: A column-vector y was passed when a 1d array was expected. Please change the shape of y to (n_samples,), for example using ravel().\n",
      "  estimator.fit(X_train, y_train, **fit_params)\n",
      "/Users/hhanchan/anaconda3/lib/python3.6/site-packages/sklearn/model_selection/_validation.py:479: DataConversionWarning: A column-vector y was passed when a 1d array was expected. Please change the shape of y to (n_samples,), for example using ravel().\n",
      "  estimator.fit(X_train, y_train, **fit_params)\n",
      "/Users/hhanchan/anaconda3/lib/python3.6/site-packages/sklearn/model_selection/_validation.py:479: DataConversionWarning: A column-vector y was passed when a 1d array was expected. Please change the shape of y to (n_samples,), for example using ravel().\n",
      "  estimator.fit(X_train, y_train, **fit_params)\n",
      "/Users/hhanchan/anaconda3/lib/python3.6/site-packages/sklearn/model_selection/_validation.py:479: DataConversionWarning: A column-vector y was passed when a 1d array was expected. Please change the shape of y to (n_samples,), for example using ravel().\n",
      "  estimator.fit(X_train, y_train, **fit_params)\n",
      "/Users/hhanchan/anaconda3/lib/python3.6/site-packages/sklearn/model_selection/_validation.py:479: DataConversionWarning: A column-vector y was passed when a 1d array was expected. Please change the shape of y to (n_samples,), for example using ravel().\n",
      "  estimator.fit(X_train, y_train, **fit_params)\n",
      "/Users/hhanchan/anaconda3/lib/python3.6/site-packages/sklearn/model_selection/_validation.py:479: DataConversionWarning: A column-vector y was passed when a 1d array was expected. Please change the shape of y to (n_samples,), for example using ravel().\n",
      "  estimator.fit(X_train, y_train, **fit_params)\n",
      "/Users/hhanchan/anaconda3/lib/python3.6/site-packages/sklearn/model_selection/_validation.py:479: DataConversionWarning: A column-vector y was passed when a 1d array was expected. Please change the shape of y to (n_samples,), for example using ravel().\n",
      "  estimator.fit(X_train, y_train, **fit_params)\n",
      "/Users/hhanchan/anaconda3/lib/python3.6/site-packages/sklearn/model_selection/_validation.py:479: DataConversionWarning: A column-vector y was passed when a 1d array was expected. Please change the shape of y to (n_samples,), for example using ravel().\n",
      "  estimator.fit(X_train, y_train, **fit_params)\n",
      "/Users/hhanchan/anaconda3/lib/python3.6/site-packages/sklearn/model_selection/_validation.py:479: DataConversionWarning: A column-vector y was passed when a 1d array was expected. Please change the shape of y to (n_samples,), for example using ravel().\n",
      "  estimator.fit(X_train, y_train, **fit_params)\n",
      "/Users/hhanchan/anaconda3/lib/python3.6/site-packages/sklearn/model_selection/_validation.py:479: DataConversionWarning: A column-vector y was passed when a 1d array was expected. Please change the shape of y to (n_samples,), for example using ravel().\n",
      "  estimator.fit(X_train, y_train, **fit_params)\n",
      "/Users/hhanchan/anaconda3/lib/python3.6/site-packages/sklearn/model_selection/_validation.py:479: DataConversionWarning: A column-vector y was passed when a 1d array was expected. Please change the shape of y to (n_samples,), for example using ravel().\n",
      "  estimator.fit(X_train, y_train, **fit_params)\n",
      "/Users/hhanchan/anaconda3/lib/python3.6/site-packages/sklearn/model_selection/_validation.py:479: DataConversionWarning: A column-vector y was passed when a 1d array was expected. Please change the shape of y to (n_samples,), for example using ravel().\n",
      "  estimator.fit(X_train, y_train, **fit_params)\n",
      "/Users/hhanchan/anaconda3/lib/python3.6/site-packages/sklearn/model_selection/_validation.py:479: DataConversionWarning: A column-vector y was passed when a 1d array was expected. Please change the shape of y to (n_samples,), for example using ravel().\n",
      "  estimator.fit(X_train, y_train, **fit_params)\n",
      "/Users/hhanchan/anaconda3/lib/python3.6/site-packages/sklearn/model_selection/_validation.py:479: DataConversionWarning: A column-vector y was passed when a 1d array was expected. Please change the shape of y to (n_samples,), for example using ravel().\n",
      "  estimator.fit(X_train, y_train, **fit_params)\n",
      "/Users/hhanchan/anaconda3/lib/python3.6/site-packages/sklearn/model_selection/_validation.py:479: DataConversionWarning: A column-vector y was passed when a 1d array was expected. Please change the shape of y to (n_samples,), for example using ravel().\n",
      "  estimator.fit(X_train, y_train, **fit_params)\n"
     ]
    },
    {
     "name": "stderr",
     "output_type": "stream",
     "text": [
      "/Users/hhanchan/anaconda3/lib/python3.6/site-packages/sklearn/model_selection/_validation.py:479: DataConversionWarning: A column-vector y was passed when a 1d array was expected. Please change the shape of y to (n_samples,), for example using ravel().\n",
      "  estimator.fit(X_train, y_train, **fit_params)\n",
      "/Users/hhanchan/anaconda3/lib/python3.6/site-packages/sklearn/model_selection/_validation.py:479: DataConversionWarning: A column-vector y was passed when a 1d array was expected. Please change the shape of y to (n_samples,), for example using ravel().\n",
      "  estimator.fit(X_train, y_train, **fit_params)\n",
      "/Users/hhanchan/anaconda3/lib/python3.6/site-packages/sklearn/model_selection/_validation.py:479: DataConversionWarning: A column-vector y was passed when a 1d array was expected. Please change the shape of y to (n_samples,), for example using ravel().\n",
      "  estimator.fit(X_train, y_train, **fit_params)\n",
      "/Users/hhanchan/anaconda3/lib/python3.6/site-packages/sklearn/model_selection/_validation.py:479: DataConversionWarning: A column-vector y was passed when a 1d array was expected. Please change the shape of y to (n_samples,), for example using ravel().\n",
      "  estimator.fit(X_train, y_train, **fit_params)\n",
      "/Users/hhanchan/anaconda3/lib/python3.6/site-packages/sklearn/model_selection/_validation.py:479: DataConversionWarning: A column-vector y was passed when a 1d array was expected. Please change the shape of y to (n_samples,), for example using ravel().\n",
      "  estimator.fit(X_train, y_train, **fit_params)\n",
      "/Users/hhanchan/anaconda3/lib/python3.6/site-packages/sklearn/model_selection/_validation.py:479: DataConversionWarning: A column-vector y was passed when a 1d array was expected. Please change the shape of y to (n_samples,), for example using ravel().\n",
      "  estimator.fit(X_train, y_train, **fit_params)\n",
      "/Users/hhanchan/anaconda3/lib/python3.6/site-packages/sklearn/model_selection/_validation.py:479: DataConversionWarning: A column-vector y was passed when a 1d array was expected. Please change the shape of y to (n_samples,), for example using ravel().\n",
      "  estimator.fit(X_train, y_train, **fit_params)\n",
      "/Users/hhanchan/anaconda3/lib/python3.6/site-packages/sklearn/model_selection/_validation.py:479: DataConversionWarning: A column-vector y was passed when a 1d array was expected. Please change the shape of y to (n_samples,), for example using ravel().\n",
      "  estimator.fit(X_train, y_train, **fit_params)\n",
      "/Users/hhanchan/anaconda3/lib/python3.6/site-packages/sklearn/model_selection/_validation.py:479: DataConversionWarning: A column-vector y was passed when a 1d array was expected. Please change the shape of y to (n_samples,), for example using ravel().\n",
      "  estimator.fit(X_train, y_train, **fit_params)\n",
      "/Users/hhanchan/anaconda3/lib/python3.6/site-packages/sklearn/model_selection/_validation.py:479: DataConversionWarning: A column-vector y was passed when a 1d array was expected. Please change the shape of y to (n_samples,), for example using ravel().\n",
      "  estimator.fit(X_train, y_train, **fit_params)\n",
      "/Users/hhanchan/anaconda3/lib/python3.6/site-packages/sklearn/model_selection/_validation.py:479: DataConversionWarning: A column-vector y was passed when a 1d array was expected. Please change the shape of y to (n_samples,), for example using ravel().\n",
      "  estimator.fit(X_train, y_train, **fit_params)\n",
      "/Users/hhanchan/anaconda3/lib/python3.6/site-packages/sklearn/model_selection/_validation.py:479: DataConversionWarning: A column-vector y was passed when a 1d array was expected. Please change the shape of y to (n_samples,), for example using ravel().\n",
      "  estimator.fit(X_train, y_train, **fit_params)\n",
      "/Users/hhanchan/anaconda3/lib/python3.6/site-packages/sklearn/model_selection/_search.py:715: DeprecationWarning: The default of the `iid` parameter will change from True to False in version 0.22 and will be removed in 0.24. This will change numeric results when test-set sizes are unequal.\n",
      "  DeprecationWarning)\n",
      "/Users/hhanchan/anaconda3/lib/python3.6/site-packages/sklearn/model_selection/_search.py:751: DataConversionWarning: A column-vector y was passed when a 1d array was expected. Please change the shape of y to (n_samples,), for example using ravel().\n",
      "  self.best_estimator_.fit(X, y, **fit_params)\n"
     ]
    },
    {
     "data": {
      "text/plain": [
       "GridSearchCV(cv=10, error_score='raise-deprecating',\n",
       "       estimator=RandomForestRegressor(bootstrap=True, criterion='mse', max_depth=None,\n",
       "           max_features='auto', max_leaf_nodes=None,\n",
       "           min_impurity_decrease=0.0, min_impurity_split=None,\n",
       "           min_samples_leaf=1, min_samples_split=2,\n",
       "           min_weight_fraction_leaf=0.0, n_estimators=10, n_jobs=1,\n",
       "           oob_score=False, random_state=0, verbose=0, warm_start=False),\n",
       "       fit_params=None, iid='warn', n_jobs=1,\n",
       "       param_grid={'max_depth': range(1, 1763, 100)},\n",
       "       pre_dispatch='2*n_jobs', refit=True, return_train_score='warn',\n",
       "       scoring=None, verbose=0)"
      ]
     },
     "execution_count": 34,
     "metadata": {},
     "output_type": "execute_result"
    }
   ],
   "source": [
    "param_grid = {'max_depth': range(1, dataval.shape[1], 100)}\n",
    "gridRF = GridSearchCV(RandomForestRegressor(random_state = 0), param_grid = param_grid, cv = 10)\n",
    "gridRF.fit(X_train, y_train)"
   ]
  },
  {
   "cell_type": "code",
   "execution_count": 36,
   "metadata": {},
   "outputs": [
    {
     "name": "stdout",
     "output_type": "stream",
     "text": [
      "RandomForestRegressor(bootstrap=True, criterion='mse', max_depth=101,\n",
      "           max_features='auto', max_leaf_nodes=None,\n",
      "           min_impurity_decrease=0.0, min_impurity_split=None,\n",
      "           min_samples_leaf=1, min_samples_split=2,\n",
      "           min_weight_fraction_leaf=0.0, n_estimators=10, n_jobs=1,\n",
      "           oob_score=False, random_state=0, verbose=0, warm_start=False) 0.9594947149439054\n"
     ]
    }
   ],
   "source": [
    "print(gridRF.best_estimator_, gridRF.best_score_)"
   ]
  },
  {
   "cell_type": "code",
   "execution_count": 37,
   "metadata": {},
   "outputs": [
    {
     "name": "stderr",
     "output_type": "stream",
     "text": [
      "/Users/hhanchan/anaconda3/lib/python3.6/site-packages/ipykernel_launcher.py:2: DataConversionWarning: A column-vector y was passed when a 1d array was expected. Please change the shape of y to (n_samples,), for example using ravel().\n",
      "  \n"
     ]
    },
    {
     "name": "stdout",
     "output_type": "stream",
     "text": [
      "Training set score: 0.99\n",
      "Validation set score: 0.97\n",
      "Test set score: 0.95\n"
     ]
    }
   ],
   "source": [
    "rf = RandomForestRegressor(max_depth=101, max_features = 'auto', oob_score = False,n_estimators = 10, random_state = 0)\n",
    "rf.fit(X_train, y_train)\n",
    "print(\"Training set score: {:.2f}\".format(rf.score(X_train, y_train)))\n",
    "print(\"Validation set score: {:.2f}\".format(rf.score(X_valid, y_valid)))\n",
    "print(\"Test set score: {:.2f}\".format(rf.score(data_test, target_test)))"
   ]
  },
  {
   "cell_type": "markdown",
   "metadata": {},
   "source": [
    "# Task 4: Feature Selections"
   ]
  },
  {
   "cell_type": "markdown",
   "metadata": {},
   "source": [
    "## The most 10 influential features for Random Forest model are as follows\n",
    "      1 Fuel Usage Desc - Conventional Fuel_Diesel, ultra low sulfur (15 ppm, maximum)\n",
    "      2 Oil Viscosity_SAE 0W-20 API SN\n",
    "      3 Stop/Start System (Engine Management System)  Description_Yes\n",
    "      4 Index (Model Type Index)\n",
    "      5 Air Aspiration Method Desc_Naturally Aspirated\n",
    "      6 Stop/Start System (Engine Management System) Code_Y\n",
    "      7 # Gears\n",
    "      8 Trans Desc_Continuously Variable\n",
    "      9 Carline Class\n",
    "      10 Eng Displ"
   ]
  },
  {
   "cell_type": "code",
   "execution_count": 41,
   "metadata": {},
   "outputs": [],
   "source": [
    "select_best = np.argsort(rf.feature_importances_)[-10:]\n",
    "best_importances = rf.feature_importances_[select_best]"
   ]
  },
  {
   "cell_type": "code",
   "execution_count": 43,
   "metadata": {},
   "outputs": [
    {
     "name": "stdout",
     "output_type": "stream",
     "text": [
      "1 Fuel Usage Desc - Conventional Fuel_Diesel, ultra low sulfur (15 ppm, maximum)\n",
      "2 Calc Approach Desc_Derived 5-cycle label\n",
      "3 Index (Model Type Index)\n",
      "4 Stop/Start System (Engine Management System) Code_Y\n",
      "5 Var Valve Timing Desc_Intake\n",
      "6 Air Aspiration Method Desc_Naturally Aspirated\n",
      "7 Trans Desc_Continuously Variable\n",
      "8 # Gears\n",
      "9 Carline Class\n",
      "10 Eng Displ\n"
     ]
    }
   ],
   "source": [
    "for rank, feature in enumerate(dataval.columns[select_best]):\n",
    "    print(rank+1, feature)"
   ]
  },
  {
   "cell_type": "code",
   "execution_count": 44,
   "metadata": {},
   "outputs": [
    {
     "data": {
      "image/png": "[encoded data removed]",
      "text/plain": [
       "<matplotlib.figure.Figure at 0x1161b5128>"
      ]
     },
     "metadata": {},
     "output_type": "display_data"
    }
   ],
   "source": [
    "plt.figure()\n",
    "plt.title(\"RandomForest Top 10\")\n",
    "plt.bar(range(10), best_importances, color = \"g\")\n",
    "plt.xticks(range(10), dataval.columns[select_best], rotation = 90)\n",
    "plt.show()"
   ]
  },
  {
   "cell_type": "markdown",
   "metadata": {},
   "source": [
    "## The features of zero importance score could be removed without decrease in performance.\n",
    "      There are 541 features of 0 importance score."
   ]
  },
  {
   "cell_type": "code",
   "execution_count": 46,
   "metadata": {},
   "outputs": [
    {
     "data": {
      "text/plain": [
       "541"
      ]
     },
     "execution_count": 46,
     "metadata": {},
     "output_type": "execute_result"
    }
   ],
   "source": [
    "sum(rf.feature_importances_==0)"
   ]
  },
  {
   "cell_type": "markdown",
   "metadata": {},
   "source": [
    "## Remove irrelevant features for random forest\n",
    "    We remove 541 irrelevant features. The test score is the same as our previous score."
   ]
  },
  {
   "cell_type": "code",
   "execution_count": 48,
   "metadata": {},
   "outputs": [
    {
     "name": "stderr",
     "output_type": "stream",
     "text": [
      "/Users/hhanchan/anaconda3/lib/python3.6/site-packages/ipykernel_launcher.py:4: DataConversionWarning: A column-vector y was passed when a 1d array was expected. Please change the shape of y to (n_samples,), for example using ravel().\n",
      "  after removing the cwd from sys.path.\n"
     ]
    },
    {
     "name": "stdout",
     "output_type": "stream",
     "text": [
      "Training set score:  0.9931823147882791\n",
      "Testing set score:  0.9526658107119905\n"
     ]
    }
   ],
   "source": [
    "select = np.argsort(rf.feature_importances_)[541:]\n",
    "X_train_select, X_valid_select = X_train.iloc[:, select], X_valid.iloc[:, select]\n",
    "data_test_select = data_test.iloc[:, select]\n",
    "rf = RandomForestRegressor(random_state=42).fit(X_train_select, y_train)\n",
    "print(\"Training set score: \",rf.score(X_train_select, y_train))\n",
    "print(\"Testing set score: \",rf.score(data_test_select, target_test))"
   ]
  },
  {
   "cell_type": "code",
   "execution_count": null,
   "metadata": {},
   "outputs": [],
   "source": []
  }
 ],
 "metadata": {
  "kernelspec": {
   "display_name": "Python 3",
   "language": "python",
   "name": "python3"
  },
  "language_info": {
   "codemirror_mode": {
    "name": "ipython",
    "version": 3
   },
   "file_extension": ".py",
   "mimetype": "text/x-python",
   "name": "python",
   "nbconvert_exporter": "python",
   "pygments_lexer": "ipython3",
   "version": "3.6.4"
  }
 },
 "nbformat": 4,
 "nbformat_minor": 2
}
